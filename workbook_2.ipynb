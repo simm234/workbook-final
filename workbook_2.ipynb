{
 "cells": [
  {
   "cell_type": "markdown",
   "metadata": {},
   "source": [
    "# Workbook 2: Depth and Breadth-First Search\n",
    "\n",
    "Overview of activities and objectives of this workbook:\n",
    "\n",
    "1. The first part of this workbook will implement the Depth-first and Breadth-first search algorithms.\n",
    "    - We will test the algorithms on the combination lock problem from last week.\n",
    "    - We provide an implementation of the pseudocode from the lectures.\n",
    "    - This will give you experience **implementing** and **testing** the algorithms within a common code framework that we provide.\n",
    "    - This will also help to build your python skills and confidence with using and adapting other people's code.\n",
    "\n",
    "2. The second part of this workbook give you hands-on experience of **extending**  algorithms to different contexts.\n",
    "    - In this case, adapting depth-first search to try and make it work for the fox-chicken-grain problem."
   ]
  },
  {
   "cell_type": "markdown",
   "metadata": {},
   "source": [
    "<div style=\"background:black;width:100%;height:10px\"><br></div>\n",
    "\n",
    "# Part 1: Depth and Breadth-First Search"
   ]
  },
  {
   "cell_type": "markdown",
   "metadata": {},
   "source": [
    "### Pseudo-code for generic single member search\n",
    "\n",
    "The variables open_list and closed_list are lists of candidate solutions:\n",
    "- `open_list` is the list of candidate solutions we *have not* checked yet.\n",
    "- `closed_list` is the list of candidate solutions we *have* checked already.\n",
    "\n",
    "The variables working_candidate and neighbour are candidate solutions:\n",
    "- `working_candidate` is the current candidate solution we are looking at.\n",
    "- `neighbour` is a candidate solution (similar to working candidate)  \n",
    "   it is created by applying the 'move operator' to the working candidate.  \n",
    "   For example, it might *extend* it, or *perturb* it (change existing values)\n",
    "\n",
    "<div style=\"background:#E0FFE0;color:black\">\n",
    "<dl style=\"font-size:1em\">\n",
    "    <dt>    <span style=\"color:darkred;font-size:1em\"> <em>INITIALISE</em></span></dt>\n",
    "    <dd>   <b>Set</b> open_list, closed_list &larr; EmptyList </dd>  \n",
    "    <dd>   working_candidate &larr; <b>Initialise</b> (CandidateSolution) </dd> \n",
    "    <dd>   <b>Test</b> ( working_candidate)  &nbsp;&nbsp;&nbsp;&nbsp;&nbsp;&nbsp;<span style=\"color:red\"> <b>Problem</b>-specific code</span></dd>\n",
    "    <dd>   <b>AppendToOpenList</b>(working_candidate)<br>  </dd>\n",
    "</dl>\n",
    "</div>\n",
    "\n",
    "<div style=\"background:#F0FFFF;color:black;font-size:1em\">\n",
    "<p style=\"color:darkred;font-size:1em;margin-bottom:0pt\"><em>MAIN LOOP</em></p>\n",
    "<dl style=\"font-size:1em;margin-top:0pt\">\n",
    "    <dt>&nbsp;&nbsp;&nbsp;<b>WHILE</b> IsNotEmpty( open_list) <b>DO</b> </dt>\n",
    "    <dd> working_candidate &larr; <b>SelectAndMoveFromOpenList</b>(algorithm_name)&nbsp;&nbsp;&nbsp;&nbsp;&nbsp;&nbsp;<span style=\"color:red\"> <b>Algorithm</b>-specific code</span></dd>\n",
    "    <dd>  <b>FOR</b> sample in SAMPLE_SIZE <b>DO</b> <br>\n",
    "        <dl style=\"font-size:1em\">\n",
    "            <dt style=\"color:blue;font-style:italic\"> &nbsp;&nbsp;&nbsp;&nbsp;&nbsp;&nbsp;GENERATE </dt>\n",
    "            <dd>  neighbour &larr; <b>ApplyMoveOperator</b> (working_candidate)&nbsp;&nbsp;&nbsp;&nbsp;&nbsp;&nbsp;<span style=\"color:red\"> <b>Representation</b>-specific code</span></dd>\n",
    "            <dt style=\"color:blue;font-style:italic\">&nbsp;&nbsp;&nbsp;&nbsp;&nbsp;&nbsp;TEST</dt>\n",
    "            <dd> status &larr; <b>Test</b> ( neighbour)&nbsp;&nbsp;&nbsp;&nbsp;&nbsp;&nbsp;<span style=\"color:red\"> <b>Problem</b>-specific code</span></dd>\n",
    "            <dt style=\"color:blue;font-style:italic\"> &nbsp;&nbsp;&nbsp;&nbsp;&nbsp;&nbsp;UPDATE WORKING MEMORY</dt> \n",
    "            <dd> <b>IF</b> status IS AtGoal <b>THEN</b><br>\n",
    "                    &nbsp;&nbsp;&nbsp; <b>Return</b>(SUCCESS)</dd>\n",
    "            <dd> <b>ELSE IF</b> status IS BREAKS_CONSTRAINTS <b>THEN</b><br>\n",
    "                &nbsp;&nbsp;&nbsp; <b>AppendToClosedList</b>(neighbour)</dd>\n",
    "            <dd><b>ELSE</b><br>\n",
    "                &nbsp;&nbsp;&nbsp; <b>AppendToOpenList</b>(neighbour)</dd>\n",
    "        </dl>\n",
    "    <dd>          <b>AppendToClosedList</b>(workingCandidate)</dd>\n",
    "</dl>\n",
    "</div>"
   ]
  },
  {
   "cell_type": "markdown",
   "metadata": {},
   "source": [
    "<div class=\"alert alert-block alert-info\" style=\"color:black\"><h2>Activity 1: Implementing depth-first search</h2>\n",
    "    <ol>\n",
    "        <li> Answer the three multiple-choice questions below to check your understanding of the code.</li>\n",
    "        <li> Complete the first code cell below to create a class <code>DepthFirstSearch</code>\n",
    "        <li> Run the second code cell below to test that your code works as expected on different instances of the combination problem.<br>\n",
    "            In each case we know how many guesses it <em>should</em> take.\n",
    "            <ul> \n",
    "                <li>The first three come from simple reasoning about the intended behaviour.<br>\n",
    "                    This is the best form of testing.</li>\n",
    "                <li>The last two are results from my <em>reference implementation</em>. <br>\n",
    "                    This sort of tests are common if we are rewriting code that already exists in another language or framework.</li>\n",
    "            </ul>\n",
    "        </li>\n",
    "    </ol>\n",
    "    <br><b>How to get started:</b>\n",
    "    <ol>\n",
    "        <li>Make sure you understand the design of a generic search method described in the pseudo-code above.</li>\n",
    "        <li>Use the file browser to open the file <em>singlemembersearch.py</em> which contains the code <b>implementation</b>. <br>\n",
    "            You don't need to look at all of it - but make sure you understand what method <code>run_search()</code>is doing. <br>\n",
    "            Your tutors will walk you through the code if that is helpful</li>\n",
    "    </ol>\n",
    "    Your code should:\n",
    "    <ol>\n",
    "        <li>Complete the function <code>select_and_move_from_openlist()</code>.\n",
    "        <li>Start by copying the pseudo-code into the method as comments.</li>\n",
    "        <li>Then insert one or two lines of code to implement each comment.</li>\n",
    "    </ol>\n",
    "</div>"
   ]
  },
  {
   "cell_type": "markdown",
   "metadata": {},
   "source": [
    "<div class=\"alert alert-block alert-success\" style=\"color:black\"><b>Hints:</b> \n",
    "    <ul>\n",
    "        <li>If you look at the pseudo-code above this function is implementing the <b>SelectAndMoveFromOpenList</b> function.<br>\n",
    "            So you <b>don't need to implement any of the other steps</b>.\n",
    "        <li>Remember the only difference between depth-first search and breadth-first search is which candidate solution we take from the open list to test next.<br>  \n",
    "            For depth-first this is <b>the last candidate solution</b> in the open list.</li>\n",
    "        <li>The open list is accessible from the <code>SingleMemberSearch</code> parent class as <code>self.open_list</code></li>\n",
    "        <li> <a href=\"https://www.w3schools.com/python/ref_list_pop.asp\">This is an explanation of python's pop() method </a> which you will want to use.</li>\n",
    "    </ul>\n",
    "</div>\n",
    "\n",
    "**Run the next cell to display  and answer the multiple choice questions**"
   ]
  },
  {
   "cell_type": "code",
   "execution_count": 1,
   "metadata": {
    "tags": []
   },
   "outputs": [
    {
     "data": {
      "application/vnd.jupyter.widget-view+json": {
       "model_id": "f7cca9dfc8274812b484b76741394d1e",
       "version_major": 2,
       "version_minor": 0
      },
      "text/plain": [
       "VBox(children=(Output(), RadioButtons(layout=Layout(height='auto', width='auto'), options=(('yes', 0), ('no', …"
      ]
     },
     "metadata": {},
     "output_type": "display_data"
    },
    {
     "data": {
      "application/vnd.jupyter.widget-view+json": {
       "model_id": "f14d93a4cfd14598aa6a21406069362c",
       "version_major": 2,
       "version_minor": 0
      },
      "text/plain": [
       "VBox(children=(Output(), RadioButtons(layout=Layout(height='auto', width='auto'), options=(('To avoid memory l…"
      ]
     },
     "metadata": {},
     "output_type": "display_data"
    },
    {
     "data": {
      "application/vnd.jupyter.widget-view+json": {
       "model_id": "1ba1f7e47b084cf486d4ee56d804cb59",
       "version_major": 2,
       "version_minor": 0
      },
      "text/plain": [
       "VBox(children=(Output(), RadioButtons(layout=Layout(height='auto', width='auto'), options=(('yes', 0), ('no', …"
      ]
     },
     "metadata": {},
     "output_type": "display_data"
    }
   ],
   "source": [
    "# run this cell to display the multiple choice questions\n",
    "import workbook2_utils as wb2\n",
    "\n",
    "display(wb2.q0)\n",
    "display(wb2.q1)\n",
    "display(wb2.q2)"
   ]
  },
  {
   "cell_type": "markdown",
   "metadata": {},
   "source": [
    "### Pseudocode for the key part of Depth-first search\n",
    "\n",
    "This is what you have to implement!\n",
    "\n",
    "<div style=\"background:#F0FFFF;color:black;font-size:1em\">\n",
    "    <dl>\n",
    "        <dt><b>SelectAndMoveFromOpenList()</b></dt>\n",
    "        <dd> my_index &larr; <b>GetLastIndex</b>(open_list)</dd>\n",
    "        <dd> the_candidate &larr; open_list(my_index)</dd>\n",
    "        <dd> <b>RemoveFromOpenList</b>(my_index)</dd>\n",
    "        <dd> <b>Return</b>(the_candidate)</dd>\n",
    "    </dl>\n",
    "    </div> \n",
    "\n",
    "**Run the next cell but do not edit it**"
   ]
  },
  {
   "cell_type": "code",
   "execution_count": 2,
   "metadata": {
    "tags": []
   },
   "outputs": [],
   "source": [
    "# YOU MUST RUN THIS CELL BUT DO NOT EDIT IT OR YOU WILL BREAK THE NOTEBOOK\n",
    "import sys, os\n",
    "\n",
    "# Import from the common directory\n",
    "sys.path.append('../common')\n",
    "from problem import Problem\n",
    "from candidatesolution import CandidateSolution\n",
    "from singlemembersearch import SingleMemberSearch\n",
    "from combinationproblem import CombinationProblem"
   ]
  },
  {
   "cell_type": "markdown",
   "metadata": {},
   "source": [
    "**Write your implementation where indicated in the cell below, then run it**"
   ]
  },
  {
   "cell_type": "code",
   "execution_count": 3,
   "metadata": {
    "tags": []
   },
   "outputs": [],
   "source": [
    "class DepthFirstSearch(SingleMemberSearch):\n",
    "    \"\"\"your implementation of depth first search to extend\n",
    "    the superclass SingleMemberSearch search.\n",
    "    Adds  a __str__method\n",
    "    Over-rides the method select_and_move_from_openlist\n",
    "    to implement the algorithm\n",
    "    \"\"\"\n",
    "\n",
    "    def __str__(self):\n",
    "        return \"depth-first\"\n",
    "\n",
    "    def select_and_move_from_openlist(self) -> CandidateSolution:\n",
    "        \"\"\"void in superclass\n",
    "        In sub-classes should implement different algorithms\n",
    "        depending on what item it picks from self.open_list\n",
    "        and what it then does to the open list\n",
    "\n",
    "        Returns\n",
    "        -------\n",
    "        next working candidate (solution) taken from open list\n",
    "        \"\"\"\n",
    "\n",
    "        # create a candidate solution variable to hold the next solution\n",
    "        next_soln = CandidateSolution()\n",
    "\n",
    "        # ====> insert your pseudo-code and code below here\n",
    "        # pseudocode: \n",
    "        # my_index = GetLastIndex(open_list) \n",
    "        # the_candidate = open_list(my_index) \n",
    "        # Remove From OpenList(my_index) \n",
    "\n",
    "        my_index = len(self.open_list) - 1\n",
    "        next_soln = self.open_list[my_index]\n",
    "        self.open_list.pop(my_index)\n",
    "\n",
    "\n",
    "        # <==== insert your pseudo-code and code above here\n",
    "        return next_soln"
   ]
  },
  {
   "cell_type": "markdown",
   "metadata": {},
   "source": [
    "**Run the next cell to test your implementation:** it will produce output giving you feedback.\n",
    "\n",
    "This code will throw an `IndexError` if you have not edited the cell above."
   ]
  },
  {
   "cell_type": "code",
   "execution_count": 4,
   "metadata": {
    "tags": []
   },
   "outputs": [
    {
     "name": "stdout",
     "output_type": "stream",
     "text": [
      "Testing behaviour for puzzle [1, 1, 1, 1]\n",
      "passed test1\n",
      "Testing behaviour for puzzle [1, 1, 1, 10]\n",
      "passed test2\n",
      "Testing behaviour for puzzle [2, 1, 1, 10]\n",
      "passed test3\n",
      "Testing behaviour for puzzle [10, 10, 10, 10]\n",
      "passed test4\n",
      "Testing behaviour for puzzle [6, 6, 6, 6]\n",
      "passed test5\n",
      "passed all tests\n"
     ]
    }
   ],
   "source": [
    "def test_depthfirst_combination():\n",
    "    \"\"\"tests that depth first search works as expected\n",
    "    on a combination lock problem by fixing the puzzle\n",
    "    \"\"\"\n",
    "\n",
    "    # Dictionary of tests. Key = test name, value = tuple[combination, expected_attempts]\n",
    "    deptests = {\n",
    "        \"test1\": [[1, 1, 1, 1], 1],\n",
    "        \"test2\": [[1, 1, 1, 10], 37],\n",
    "        \"test3\": [[2, 1, 1, 10], 38],\n",
    "        \"test4\": [[10, 10, 10, 10], 2052],\n",
    "        \"test5\": [[6, 6, 6, 6], 5988],\n",
    "    }\n",
    "\n",
    "    # loop through each test\n",
    "    for key, val in deptests.items():\n",
    "        \n",
    "        # make a combination lock problem\n",
    "        myproblem = CombinationProblem(tumblers=4, num_options=10)\n",
    "\n",
    "        # change answer to specified combination and set expected attempts\n",
    "        myproblem.set_goal(val[0])\n",
    "        expected = val[1]\n",
    "        print(f\"Testing behaviour for puzzle {myproblem.get_goal()}\")\n",
    "\n",
    "        # make then call search process from your code\n",
    "        mysearch = DepthFirstSearch(myproblem, max_attempts=10000)\n",
    "        found = mysearch.run_search()\n",
    "\n",
    "        # Test results are what they should be\n",
    "        assert found, f\"should be able to solve {val[0]}\"\n",
    "        errorstring = f\"should take {expected} attempts not {mysearch.trials}\"\n",
    "        assert mysearch.trials == expected, errorstring\n",
    "        print(f\"passed {key}\")\n",
    "\n",
    "    print(\"passed all tests\")\n",
    "\n",
    "# Call the test function\n",
    "test_depthfirst_combination()"
   ]
  },
  {
   "cell_type": "markdown",
   "metadata": {},
   "source": [
    "<div class=\"alert alert-block alert-info\" style=\"color:black\"><h2>Activity 2: Implementing Breadth-first search</h2>\n",
    "    <ol>\n",
    "        <li> Complete the first code cell below to create a class <code>BreadthFirstSearch</code>\n",
    "        <li> Run the second code cell below to test that your code works as expected on different instances of the combination problem. In each case we know how many guesses it <em>should</em> take.</li>\n",
    "        <li> When you code passes all of the tests provided, read the code for the method <code>CombinationLock.evaluate()</code> and then answer the multiple-choice questions below.</li>\n",
    "    </ol>\n",
    "    <br><b>How to get started:</b> You should complete this problem in the same way you did for depth-first search:\n",
    "    <ol>\n",
    "        <li>Complete the function <code>select_and_move_from_openlist()</code>.\n",
    "        <li>Start by copying the pseudo-code into the method as comments.</li>\n",
    "        <li>Then insert one or two lines of code to implement each comment.</li>\n",
    "    </ol>\n",
    "</div>"
   ]
  },
  {
   "cell_type": "markdown",
   "metadata": {},
   "source": [
    "<div class=\"alert alert-block alert-success\" style=\"color:black\"><b>Hints:</b> \n",
    "<p></p>Remember the only difference between depth-first search and breadth-first search is which candidate solution we take from the open list to test next.</p>\n",
    "    \n",
    "</p> For breadth-first this is <b>the first candidate solution</b> in the open list.</p>\n",
    "</div>"
   ]
  },
  {
   "cell_type": "markdown",
   "metadata": {
    "tags": []
   },
   "source": [
    "### Pseudocode for Breadth-first search\n",
    "<div style=\"background:#F0FFFF;color:black;font-size:1em\">\n",
    "    <dl>\n",
    "        <dt><b>SelectAndMoveFromOpenList()</b></dt>\n",
    "        <dd> my_index &larr; <b>GetFirstIndex</b>(open_list)</dd>\n",
    "        <dd> the_candidate &larr; open_list(my_index)</dd>\n",
    "        <dd> <b>RemoveFromOpenList</b>(my_index)</dd>\n",
    "        <dd> <b>Return</b>(the_candidate)</dd>\n",
    "    </dl>\n",
    "    </div> \n",
    "\n",
    "**Write your implementation where indicated in the cell below then run it**"
   ]
  },
  {
   "cell_type": "code",
   "execution_count": 5,
   "metadata": {
    "tags": []
   },
   "outputs": [],
   "source": [
    "class BreadthFirstSearch(SingleMemberSearch):\n",
    "    \"\"\"your implementation of depth first search to extend\n",
    "    the superclass SingleMemberSearch search.\n",
    "    Adds  a __str__method\n",
    "    Over-rides the method select_and_move_from_openlist\n",
    "    to implement the algorithm\n",
    "    \"\"\"\n",
    "\n",
    "    def __str__(self):\n",
    "        return \"breadth-first\"\n",
    "\n",
    "    def select_and_move_from_openlist(self) -> CandidateSolution:\n",
    "        \"\"\"Implements the breadth-first search algorithm\n",
    "\n",
    "        Returns\n",
    "        -------\n",
    "        next working candidate (solution) taken from open list\n",
    "        \"\"\"\n",
    "        # create a candidate solution variable to hold the next solution\n",
    "        next_soln = CandidateSolution()\n",
    "\n",
    "        # ====> insert your pseudo-code and code below here\n",
    " \n",
    "        # my_index <-- GetFirstIndex(open_list) \n",
    "        # the_candidate <--  open_list(my_index) \n",
    "        # Remove From OpenList(my_index) \n",
    "\n",
    "        my_index = 0\n",
    "\n",
    "        next_soln = self.open_list[my_index]\n",
    "\n",
    "        self.open_list.pop(my_index)\n",
    "\n",
    "\n",
    "        # <==== insert your pseudo-code and code above here\n",
    "        return next_soln"
   ]
  },
  {
   "cell_type": "markdown",
   "metadata": {},
   "source": [
    "**Run the next cell to test your implementation**  \n",
    "It will throw an `IndexError` if you have not edited the cell above."
   ]
  },
  {
   "cell_type": "code",
   "execution_count": 6,
   "metadata": {
    "tags": []
   },
   "outputs": [
    {
     "name": "stdout",
     "output_type": "stream",
     "text": [
      "Testing behaviour for puzzle [1, 1, 1, 1]\n",
      "passed test1\n",
      "Testing behaviour for puzzle [1, 1, 1, 10]\n",
      "passed test2\n",
      "Testing behaviour for puzzle [2, 1, 1, 10]\n",
      "passed test3\n",
      "Testing behaviour for puzzle [10, 10, 10, 10]\n",
      "passed test4\n",
      "Testing behaviour for puzzle [6, 6, 6, 6]\n",
      "passed test5\n",
      "passed all tests\n"
     ]
    }
   ],
   "source": [
    "def test_breadthfirst_combination():\n",
    "    \"\"\"tests that depth first search works as expected\n",
    "    on a combination lock problem by fixing the puzzle\n",
    "    \"\"\"\n",
    "    print_runlog = False  # you might want to turn this on for debugging\n",
    "\n",
    "    bretests = {\n",
    "        \"test1\": [[1, 1, 1, 1], 1],\n",
    "        \"test2\": [[1, 1, 1, 10], 37],\n",
    "        \"test3\": [[2, 1, 1, 10], 64],\n",
    "        \"test4\": [[10, 10, 10, 10], 10000],\n",
    "        \"test5\": [[6, 6, 6, 6], 6720],\n",
    "    }\n",
    "\n",
    "    # loop through each test\n",
    "    for key, val in bretests.items():\n",
    "\n",
    "        # make a combination lock problem\n",
    "        myproblem = CombinationProblem(tumblers=4, num_options=10)\n",
    "\n",
    "        # change answer to specified combination and set expected attempts\n",
    "        myproblem.set_goal(val[0])\n",
    "        expected = val[1]\n",
    "        print(f\"Testing behaviour for puzzle {myproblem.get_goal()}\")\n",
    "\n",
    "        # make then call search process from your code\n",
    "        mysearch = BreadthFirstSearch(myproblem, max_attempts=10000)\n",
    "        found = mysearch.run_search()\n",
    "\n",
    "        if print_runlog:  # in case you need to debug your code\n",
    "            print(mysearch.runlog)\n",
    "        assert found, f\"should be able to solve {val[0]}\"\n",
    "        errorstring = f\"should take {expected} attempts not {mysearch.trials}\"\n",
    "        assert mysearch.trials == expected, errorstring\n",
    "        print(f\"passed {key}\")\n",
    "        \n",
    "    print(\"passed all tests\")\n",
    "\n",
    "# Call the test function\n",
    "test_breadthfirst_combination()"
   ]
  },
  {
   "cell_type": "code",
   "execution_count": 7,
   "metadata": {
    "tags": []
   },
   "outputs": [
    {
     "data": {
      "application/vnd.jupyter.widget-view+json": {
       "model_id": "fca407a9c9ed4b2cb6bf67cf50ca0757",
       "version_major": 2,
       "version_minor": 0
      },
      "text/plain": [
       "VBox(children=(Output(), RadioButtons(layout=Layout(height='auto', width='auto'), options=(('yes', 0), ('no', …"
      ]
     },
     "metadata": {},
     "output_type": "display_data"
    },
    {
     "data": {
      "application/vnd.jupyter.widget-view+json": {
       "model_id": "8d50fc41785f4fe98487069a9b3ca1b2",
       "version_major": 2,
       "version_minor": 0
      },
      "text/plain": [
       "VBox(children=(Output(), RadioButtons(layout=Layout(height='auto', width='auto'), options=((' If the algorithm…"
      ]
     },
     "metadata": {},
     "output_type": "display_data"
    }
   ],
   "source": [
    "# Run this cell to display some questions about the testing process\n",
    "display(wb2.q3)\n",
    "display(wb2.q4)"
   ]
  },
  {
   "cell_type": "markdown",
   "metadata": {},
   "source": [
    "<div style=\"background:black; width:100%;height:10\"><br></div>\n",
    "\n",
    "# Part 2: Extending Breadth-first and Depth-first to different contexts\n",
    "\n",
    "The aim of this next section is to demonstrate:\n",
    "- how you can rapidly re-apply search algorithms to different problems\n",
    "  **rather than write new algorithms for each problem** \n",
    "- How every algorithm has its  strengths and weaknesses."
   ]
  },
  {
   "cell_type": "markdown",
   "metadata": {},
   "source": [
    "## The fox-chicken-grain problem\n",
    "- You have a fox, a chicken and a sack of grain.  \n",
    "- You must cross a river with only one of them at a time.\n",
    "- If you leave the fox with the chicken he will eat it.\n",
    "- If you leave the chicken with the grain she will eat it.\n",
    "\n",
    "Can you get all three across safely in less than ten moves?\n",
    "\n",
    "### Design Statement for fox-chicken-grain problem<img src = \"figures/fox-chicken-grain-partial-graph.png\" style = \"float:right\" width=25%>\n",
    "\n",
    "There are 8 moves in total: {nothing, fox, chicken, grain} X {bank0to1, bank1to0}.   \n",
    "**Computers don't understand language** (despite the myths about chat-gpt), so we have to assign *labels* to *moves*.  \n",
    "For example, moving nothing from bank 0 to 1 might be `0`,  \n",
    "and moving the fox from bank 0 to bank 1 might be `1`, and so on.\n",
    "- so ```FoxChickenGrain.value_set``` = [0,1,2,3,4,5,6,7]\n",
    "\n",
    "Unlike the `CombinationProblem`, a candidate solution may have one or more moves, not a fixed number\n",
    "- so we encode ```FoxChickenGrain.numdecisions= -1``` \n",
    "\n",
    "Therefore, ```CandidateSolution.variable_values``` is a list of values in the range [0,...7] which **encodes** a sequence of moves.\n",
    "\n",
    "```FoxChickenGrain.evaluate(attempt:list)``` decodes the sequence of moves as follows.   \n",
    "&nbsp;&nbsp;&nbsp;&nbsp; It starts from state(0,0,0,0), where everything is safely on the first bank, and takes the first move in the sequence.  \n",
    "&nbsp;&nbsp;&nbsp;&nbsp; After that it loops:\n",
    "- applying the move to get the next state:\n",
    "- *if* move can't be applied *then* do nothing and leave state unchanged\n",
    "- *else if* next state in forbidden list *then* return INFEASIBLE (-1) (Something gets eaten!)\n",
    "- *else if* next state = (1,1,1,1)*then* return SUCCESS (1)\n",
    "- *else* get  next move in sequence and return to start of loop\n",
    "  \n",
    "&nbsp;&nbsp;&nbsp;&nbsp;The method returns:\n",
    "- -1 (infeasible),\n",
    "- 0 (ok but doesn't reach goal) or \n",
    "- 1 (reaches goal)\n",
    "\n",
    "### Design Choices for generating each 1-step neighbour (`ApplyMoveOperator()`)\n",
    "\n",
    "**Perturbative:** uses a *fixed* number of moves, like we did with the combination lock.  \n",
    "&nbsp;&nbsp;&nbsp;&nbsp;Could use a nested loop through each position (1...n) and value (0...7) changing a specific move to the new value.  \n",
    "&nbsp;&nbsp;&nbsp;&nbsp;This means each solution has *d* moves and 7d neighbours (7 different values in d different positions).\n",
    "\n",
    "&nbsp;&nbsp;&nbsp;&nbsp;The problem is:\n",
    "   1. ```FoxChickenGrain.evaluate(attempt)``` would need to stop as soon as it gets to the goal (and ignore the rest of the moves)\n",
    "   2. We would need to set a value for *d* which is not:\n",
    "    - too low to find a solution. \n",
    "    - too high, so we waste time changing the end of long sequences that are never reached\n",
    "   3. We would need to specify a valid starting point which has a sequence of valid neighbours\n",
    "\n",
    "&nbsp;&nbsp;&nbsp;&nbsp;This is getting really far from the idea of reusable code that we can apply quickly to solve any problem.   \n",
    "&nbsp;&nbsp;&nbsp;&nbsp;So *this is not* a good design choice if we want to get something implemented quickly!\n",
    "  \n",
    "**Constructive:** uses an *unspecified* number of moves.   \n",
    "&nbsp;&nbsp;&nbsp;&nbsp;Each time we create 1-step neighbours which **add** moves to the existing solution.  \n",
    "&nbsp;&nbsp;&nbsp;&nbsp;i.e. each solution with *d* moves has 8 neighbours, all with *d+1* moves.\n",
    "  - Avoids most of the problems with perturbative in this case\n",
    "  - But what about potential loops?"
   ]
  },
  {
   "cell_type": "markdown",
   "metadata": {},
   "source": [
    "<div class=\"alert alert-block alert-info\" style=\"color:black\"><h2>Activity 3: Comparing  search algorithms for the fox-chicken-grain problem</h2>\n",
    "    <ol>\n",
    "        <li>You are provided with a python class <code>FoxChickenGrain</code>. Without reading the source code file, run the first code cell below.\n",
    "            <ul>\n",
    "                <li> This demonstrates how python's <code>help()</code> system picks up docstrings</li>\n",
    "                <li> Then open the file <code>foxchickengrain.py</code> to see where the help messages are coming from</li>\n",
    "                <li> I've used numpy style docstrings but there are a few alternatives</li>\n",
    "                <li> The point is to realise that well written code should be self-documenting to help other people use it.</li>\n",
    "            </ul></li>\n",
    "        <li> Predict whether you think depth-first and breadth-first search will find a solution or not. Be honest and write this down (with a reason) <b>before</b> you run the algorithm</li>\n",
    "        <li> Then run the code cell and see if your predictions were correct</li>  \n",
    "        <li> Finally answer the four multiple choice questions in the following cell.</li>\n",
    "    </ol>\n",
    "    <br><b>How to get started:</b>\n",
    "    <ol>\n",
    "        <li>500 attempts <em>should</em> be enough to test whether your algorithms behave as you expected but you can change it if you like.<br>\n",
    "            But you may need to alter the value of the variable <code>max_attempts</code> to satisfy yourself about the answers to the MCQ's.\n",
    "        <li>I've provided the option to print the runlog from the search process. This can be instructive, but gets quite long.</li>\n",
    "    </ol>\n",
    "</div>"
   ]
  },
  {
   "cell_type": "markdown",
   "metadata": {},
   "source": [
    "<div class=\"alert alert-block alert-success\" style=\"color:black\"><b>Note:</b><br>\n",
    "    <ul>\n",
    "        <li>We are using this search algorithm in <code>constructive</code> mode, as explained above.</li>\n",
    "        <li>Notice how we are re-purposing the classes you created for another problem without any extra work!</li>\n",
    "    </ul>\n",
    "</div>\n",
    "\n",
    "**Run the next cell to import code: it should  produce help output**"
   ]
  },
  {
   "cell_type": "code",
   "execution_count": 8,
   "metadata": {
    "tags": []
   },
   "outputs": [],
   "source": [
    "# run this cell to import libraries and utilities\n",
    "from foxchickengrain import FoxChickenGrain\n",
    "# help(FoxChickenGrain)"
   ]
  },
  {
   "cell_type": "markdown",
   "metadata": {},
   "source": [
    "**Run the next cell** to try **your** implementations of Depth-First and Breadth-First Search on this new problem\n",
    "You should not have to edit anything at this stage.   \n",
    "Notice how we're passing in parameters defined in the super-class to: \n",
    "-    change the type of search applied to constructive\n",
    "-    stop things running forever."
   ]
  },
  {
   "cell_type": "code",
   "execution_count": 9,
   "metadata": {
    "tags": []
   },
   "outputs": [
    {
     "name": "stdout",
     "output_type": "stream",
     "text": [
      "\n",
      " Using the algorithm depth-first\n",
      "\t Problem not solved in time allowed\n",
      "\n",
      " Using the algorithm breadth-first\n",
      "\t Solved after 404 attempts:\n",
      "\t Solution is->bc_01->b_10->bg_01->bc_10->bf_01->b_10->bc_01\n"
     ]
    }
   ],
   "source": [
    "#next line not necessary if you've run the cell above - but python  will ignore it\n",
    "from foxchickengrain import FoxChickenGrain\n",
    "\n",
    "# Create a FoxChickenGrain problem\n",
    "myproblem = FoxChickenGrain()\n",
    "\n",
    "# Create a depth-first and breadth-first search algorithm\n",
    "my_depth_search = DepthFirstSearch(myproblem, constructive=True, max_attempts=500)\n",
    "my_breadth_search = BreadthFirstSearch(myproblem, constructive=True, max_attempts=500)\n",
    "\n",
    "print_runlog = False  # you might want to turn this on for debugging\n",
    "\n",
    "for algorithm in (my_depth_search, my_breadth_search):\n",
    "    print(f\"\\n Using the algorithm {algorithm.__str__()}\")\n",
    "    found = algorithm.run_search()\n",
    "    if found:\n",
    "        print(\n",
    "            f\"\\t Solved after {algorithm.trials} attempts:\\n\"\n",
    "            f\"\\t Solution is{myproblem.display(algorithm.result)}\"\n",
    "        )\n",
    "    else:\n",
    "        print(\"\\t Problem not solved in time allowed\")\n",
    "        if print_runlog:\n",
    "            print(algorithm.runlog)"
   ]
  },
  {
   "cell_type": "code",
   "execution_count": 10,
   "metadata": {
    "tags": []
   },
   "outputs": [
    {
     "data": {
      "application/vnd.jupyter.widget-view+json": {
       "model_id": "011cc5902dae490f8727192036f0edf0",
       "version_major": 2,
       "version_minor": 0
      },
      "text/plain": [
       "VBox(children=(Output(), RadioButtons(layout=Layout(height='auto', width='auto'), options=(('100', 0), ('500',…"
      ]
     },
     "metadata": {},
     "output_type": "display_data"
    },
    {
     "data": {
      "application/vnd.jupyter.widget-view+json": {
       "model_id": "ca90f54e0b2741e28b0061f5be024dd6",
       "version_major": 2,
       "version_minor": 0
      },
      "text/plain": [
       "VBox(children=(Output(), RadioButtons(layout=Layout(height='auto', width='auto'), options=(('yes', 0), ('no', …"
      ]
     },
     "metadata": {},
     "output_type": "display_data"
    },
    {
     "data": {
      "application/vnd.jupyter.widget-view+json": {
       "model_id": "e44e85fd1e344d46a54fc51fd1dbaf8f",
       "version_major": 2,
       "version_minor": 0
      },
      "text/plain": [
       "VBox(children=(Output(), RadioButtons(layout=Layout(height='auto', width='auto'), options=(('It completed', 0)…"
      ]
     },
     "metadata": {},
     "output_type": "display_data"
    },
    {
     "data": {
      "application/vnd.jupyter.widget-view+json": {
       "model_id": "564e0ef0c9834079bad6e12d70b5e3ac",
       "version_major": 2,
       "version_minor": 0
      },
      "text/plain": [
       "VBox(children=(Output(), RadioButtons(layout=Layout(height='auto', width='auto'), options=(('yes', 0), ('no', …"
      ]
     },
     "metadata": {},
     "output_type": "display_data"
    },
    {
     "data": {
      "application/vnd.jupyter.widget-view+json": {
       "model_id": "e27a7f76de714c55b356bf54166fa8ac",
       "version_major": 2,
       "version_minor": 0
      },
      "text/plain": [
       "VBox(children=(Output(), RadioButtons(layout=Layout(height='auto', width='auto'), options=(('4', 0), ('5', 1),…"
      ]
     },
     "metadata": {},
     "output_type": "display_data"
    }
   ],
   "source": [
    "# Run this cell to display some questions about how you think different algorithms will behave on this problem\n",
    "display(wb2.q5)\n",
    "display(wb2.q6)\n",
    "display(wb2.q7)\n",
    "display(wb2.q8)\n",
    "display(wb2.q9)"
   ]
  },
  {
   "cell_type": "markdown",
   "metadata": {},
   "source": [
    "<div class=\"alert alert-block alert-info\" style=\"color:black\"><h2>Activity 4: Restricting depth-first search to solve fox-chicken-grain.</h2>\n",
    "    The idea of this activity is to produce a version of depth-first search which stops looking beyond a certain depth. <br>\n",
    "    We want the maximum depth allowed to be a parameter we can change to find the minimum value. <br>\n",
    "    We will do this by using <b>inheritance</b> and over-riding the method <code>update_working_memory()</code>.\n",
    "    <br><br><b>How to get started:</b>\n",
    "    <ol>\n",
    "        <li>In the cell below copy-paste your code for the class <code>DepthFirstSearch</code>, that you wrote and tested in Activity 1, into <code>RestrictedDepthFirstSearch</code></li>\n",
    "        <li> Add a new parameter <code>self.max_depth</code> with a default value 10 by extending the <code>__init__()</code> method of the super class.</li>\n",
    "        <li>Copy-paste the method <code>update_working_memory()</code> from the super-class in <em>singlemembersearch.py</em> into your new class</li>\n",
    "        <li>Change the code which decides whether to put a neighbour on the open_list. <em><br>\n",
    "            Edit</em> the condition so it only adds neighbours below your chosen size,<br>\n",
    "            i.e. the <em>length</em> of the list <code>variable_values</code> is less than <code>self.max_depth</code>.</li>\n",
    "        <li>When you have edited your code, run the second code cell to test it out.</li>\n",
    "        <li>Finally experiment with different settings of <i>max_depth</i> to answer the multiple choice questions.</li>\n",
    "    </ol>\n",
    "</div>"
   ]
  },
  {
   "cell_type": "markdown",
   "metadata": {},
   "source": [
    "<div class=\"alert alert-block alert-success\" style=\"color:black\"><b>Hints:</b><br>\n",
    "    <ul>\n",
    "        <li>You will need to call the superclass init function <code>super().__init__()</code> in your new class by passing it all of the other parameters. <br>\n",
    "            This way means that you can change the <code>max_depth</code> at run time without having to change your class definition<br>\n",
    "        <a href=\"https://www.geeksforgeeks.org/understanding-the-role-of-parent-classs-init-in-python-inheritance/\">Here's a description from Geeks4geeks</a></li>\n",
    "        <li>When copy-pasting remember to get the indentation right so it is a method of your new class!</li>\n",
    "        <li>You only need to change <b>one line</b> in <code>update_working_memory()</code>\n",
    "    </ul>\n",
    "</div>\n",
    "\n",
    "**Write your implementation where indicated in the cell below then run the cell.**"
   ]
  },
  {
   "cell_type": "code",
   "execution_count": 11,
   "metadata": {},
   "outputs": [],
   "source": [
    "class RestrictedDepthFirstSearch(SingleMemberSearch):\n",
    "    # ====> insert your code below here\n",
    "\n",
    "    # copy your depth-first search class code in here\n",
    "    # then over-ride the method ```__init__()``` with the new parameter max_depth\n",
    "    # then the method ```update_working_memory()```\n",
    "    # then edit that method to produce your new class\n",
    "\n",
    "    def __init__(\n",
    "        self,\n",
    "        problem: Problem,\n",
    "        constructive: bool = False,\n",
    "        max_attempts: int = 50,\n",
    "        minimise=True,\n",
    "        target_quality=1,\n",
    "        max_depth: int = 10,  # New parameter\n",
    "    ):\n",
    "        super().__init__(problem, constructive, max_attempts, minimise, target_quality)\n",
    "        self.max_depth = max_depth\n",
    "\n",
    "    \n",
    "    def __str__(self):\n",
    "        return \"restricted-depth-first\"\n",
    "    \n",
    "    def select_and_move_from_openlist(self) -> CandidateSolution:\n",
    "        my_index = len(self.open_list) - 1\n",
    "        next_soln = self.open_list[my_index]\n",
    "        self.open_list.pop(my_index)\n",
    "        return next_soln\n",
    "    \n",
    "    def update_working_memory(self, neighbour: CandidateSolution, reason: str):\n",
    "        # === Pseudocode: IF status IS AtGoal THEN Return(SUCCESS)\n",
    "        # for decision problems this means quality==1\n",
    "        if neighbour.quality == self.target_quality:\n",
    "            self.result = neighbour.variable_values\n",
    "            self.solved = True\n",
    "\n",
    "        # === Pseudocode: ELSE IF status IS BREAKS_CONSTRAINTS THEN\n",
    "        elif reason != \"\":\n",
    "            self.runlog += (\n",
    "                f\"discarding invalid solution {neighbour.variable_values} \"\n",
    "                f\"because {reason}\\n\"\n",
    "            )\n",
    "            self.closed_list.append(neighbour)\n",
    "\n",
    "        # === Pseudocode: ELSE AppendToOpenList(neighbour)\n",
    "        elif len(neighbour.variable_values) < self.max_depth:  # Depth restriction applied\n",
    "            self.runlog += (\n",
    "                \"adding solution to openlist\"\n",
    "                f\": to examine later: {neighbour.variable_values}\\t\"\n",
    "                f\" quality {neighbour.quality}\\n\"\n",
    "            )\n",
    "            self.open_list.append(neighbour)\n",
    "\n",
    "\n"
   ]
  },
  {
   "cell_type": "markdown",
   "metadata": {},
   "source": [
    "**Run the next cell to test your new search method.**"
   ]
  },
  {
   "cell_type": "code",
   "execution_count": 12,
   "metadata": {
    "tags": []
   },
   "outputs": [
    {
     "name": "stdout",
     "output_type": "stream",
     "text": [
      "Search to a maximum depth of 10 moves,\n",
      "solved after 644 attempts:\n",
      "solution is->bc_01->bc_10->bc_01->b_10->bf_01->bc_10->bg_01->b_10->bc_01\n"
     ]
    }
   ],
   "source": [
    "# Create a FoxChickenGrain problem\n",
    "myproblem = FoxChickenGrain()\n",
    "\n",
    "# Create a restricted depth-first search algorithm\n",
    "mysearch = RestrictedDepthFirstSearch(myproblem,\n",
    "                                     constructive=True,\n",
    "                                     max_attempts=1000,\n",
    "                                     max_depth=10\n",
    "                                   )\n",
    "\n",
    "# Run the search\n",
    "found = mysearch.run_search()\n",
    "if found:\n",
    "    print(\n",
    "        f\"Search to a maximum depth of {mysearch.max_depth} moves,\\n\"\n",
    "        f\"solved after {mysearch.trials} attempts:\\n\"\n",
    "        f\"solution is{myproblem.display(mysearch.result)}\"\n",
    "    )"
   ]
  },
  {
   "cell_type": "code",
   "execution_count": 13,
   "metadata": {},
   "outputs": [
    {
     "data": {
      "application/vnd.jupyter.widget-view+json": {
       "model_id": "9aabbfd7e55f4c55a96db0992d462230",
       "version_major": 2,
       "version_minor": 0
      },
      "text/plain": [
       "VBox(children=(Output(), RadioButtons(layout=Layout(height='auto', width='auto'), options=(('yes', 0), ('no', …"
      ]
     },
     "metadata": {},
     "output_type": "display_data"
    },
    {
     "data": {
      "application/vnd.jupyter.widget-view+json": {
       "model_id": "eae08a00e81443aaac220b9392343745",
       "version_major": 2,
       "version_minor": 0
      },
      "text/plain": [
       "VBox(children=(Output(), RadioButtons(layout=Layout(height='auto', width='auto'), options=(('yes', 0), ('no', …"
      ]
     },
     "metadata": {},
     "output_type": "display_data"
    }
   ],
   "source": [
    "display(wb2.q10)\n",
    "display(wb2.q11)"
   ]
  },
  {
   "cell_type": "markdown",
   "metadata": {},
   "source": [
    "<div class=\"alert alert-block alert-success\" style=\"color:black\"><b>Save and close Jupyter:</b>\n",
    "    <ol>\n",
    "        <li>Use the jupyterlab functions to download your work (ask your tutor if you need help with this) and save it somewhere sensible so you can find it easily.</li>\n",
    "        <li>Shutdown the notebook when you have finished with this tutorial (menu->file->close and shutdown notebook)</li>\n",
    "    </ol>\n",
    "</div>"
   ]
  }
 ],
 "metadata": {
  "kernelspec": {
   "display_name": "Python 3",
   "language": "python",
   "name": "python3"
  },
  "language_info": {
   "codemirror_mode": {
    "name": "ipython",
    "version": 3
   },
   "file_extension": ".py",
   "mimetype": "text/x-python",
   "name": "python",
   "nbconvert_exporter": "python",
   "pygments_lexer": "ipython3",
   "version": "3.12.3"
  }
 },
 "nbformat": 4,
 "nbformat_minor": 4
}
