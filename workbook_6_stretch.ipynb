{
 "cells": [
  {
   "cell_type": "markdown",
   "metadata": {},
   "source": [
    "<div class=\"alert alert-info\" style=\"color:black\" > <h1> Activity 4: Creating a test harness for comparing ML algorithms on a dataset</h1>\n",
    "<p> Now you have done some manual experimenting with different hyper-parameter values for algorithms, it's time to think about automating that process.</p>\n",
    "<p>Complete the cell below to create a method that: </p>\n",
    "<ul>\n",
    "    <li> Takes a train and test data  arrays as  parameters <br>\n",
    "        HINT: develop your code using train_x, test_x,train_y,test_y for the iris data from above</li>\n",
    "    <li> Runs your SimpleKNNClassifier with K={1,3,5,7,9} and stores the test accuracy for each <br>\n",
    "    HINT: you could use:\n",
    "        <ul>\n",
    "            <li>a for loop to run the algorithm with different settings k  for  the number of neighbours(K),</li>\n",
    "            <li> an <a href=https://www.geeksforgeeks.org/formatted-string-literals-f-strings-python/>f-string</a> e.g. <code>experiment_name= f'KNN_K={k}'</code> to create a meaningful name for each run </li>\n",
    "            <li>a   dictionary to store your results, where each experiment has the string <em>experiment_name</em> as the key and the accuracy as the value </li>\n",
    "            </ul>for this?</li>\n",
    "    <li> Runs a DecisionTreeClassifier with all the different combinations of hyper-parameters from activity 3<br>\n",
    "       HINT: You could do this in the same way as I've suggested above but with nested for-loops (one for each hyper-parameter) and a more complex python f-string to create the name (key), then store the results in the same dictionary.  </li>\n",
    "    <li> Reports the results and which algorithm-hyperparameter combination has the highest test accuracy</li>\n",
    "</ul>\n",
    "</div>"
   ]
  },
  {
   "cell_type": "markdown",
   "metadata": {},
   "source": [
    "<div class=\"alert alert-warning\" style=\"color:black\"\">\n",
    "    <h3> Reminder: Storing data in python dictionaries and iterating through their contents</h3>\n",
    "    <p> Python dictionaries are a way of storing data that can be accessed via a key<br>\n",
    "for example: <code> my_dict= {'name':'jim','familyname':\"Smith\", 'job':'professor'}</code><br>\n",
    "<b>Keys are usually strings</b>, but the values associated with a key can be any type, including numbers.</p>\n",
    "\n",
    "<p> The following snippets of code might be useful to you - <b>after</b> you have edited them.</p>\n",
    "<p> Make a new code cell in the notebook, copy the snippets in and run it, then edit it as you need.</p>\n",
    "<p><pre style='background:lightbrown;colour:black'>    \n",
    "labels = ['a','b','a','c','a','d','b']\n",
    "indexes = [1,4,6]\n",
    "mydict={}\n",
    "<span style=\"color:green\">for</span> idx <span style=\"color:green\">in</span> indexes:\n",
    "    <span style=\"color:green\">if</span> labels[idx] <span style=\"color:green\">in</span> mydict.keys():\n",
    "        mydict[labels[idx]] += 1\n",
    "    <span style=\"color:green\">else</span>: #create a new dictionary entry if needed\n",
    "        mydict[labels[idx]] = 1\n",
    "<span style=\"color:green\">print</span>(f'mydict is {mydict}')\n",
    "\n",
    "leastvotes=99\n",
    "<span style=\"color:green\">for</span> key,val <span style=\"color:green\">in</span> mydict.items():\n",
    "    <span style=\"color:green\">if</span> val < leastvotes:\n",
    "        unpopular= key\n",
    "        leastvotes=val\n",
    "<span style=\"color:green\">print</span>(f'{unpopular}, {leastvotes}')\n",
    "    </pre></p>\n",
    "    </div>"
   ]
  },
  {
   "cell_type": "code",
   "execution_count": 17,
   "metadata": {},
   "outputs": [
    {
     "name": "stdout",
     "output_type": "stream",
     "text": [
      "jim_0 : 46\n",
      "nathan_0 : 79\n",
      "jim_1 : 23\n",
      "nathan_1 : 13\n",
      "jim_2 : 69\n",
      "nathan_2 : 48\n",
      "jim_3 : 12\n",
      "nathan_3 : 63\n",
      "jim_4 : 78\n",
      "nathan_4 : 39\n",
      " mydict.values() returns dict_values([46, 79, 23, 13, 69, 48, 12, 63, 78, 39]) of type <class 'dict_values'>\n",
      " biggest value is 79\n",
      "dict_keys(['jim_0', 'nathan_0', 'jim_1', 'nathan_1', 'jim_2', 'nathan_2', 'jim_3', 'nathan_3', 'jim_4', 'nathan_4'])\n"
     ]
    }
   ],
   "source": [
    "import numpy as np\n",
    "\n",
    "#some names\n",
    "people= ['jim', 'nathan']\n",
    "RUNS= 5\n",
    "#some randomly created scores\n",
    "scores= [[46,23,69,12,78], [79, 13,48,63,39]]\n",
    "\n",
    "#some example of making keys and putting things into  dict\n",
    "mydict={}\n",
    "#populate mydict with items created using the data above\n",
    "for iteration in range(RUNS):\n",
    "    for person_idx in range(2):\n",
    "        name= f'{people[person_idx]}_{iteration}'\n",
    "        mydict[name]= scores[person_idx][iteration]\n",
    "\n",
    "#some examples of accessing a dictionary's contents\n",
    "for key,val in mydict.items():\n",
    "    print( f'{key} : {val}')\n",
    "\n",
    "# print all scores\n",
    "vals= mydict.values()\n",
    "print(f' mydict.values() returns {vals} of type {type(vals)}')\n",
    "\n",
    "# Have to cast vals into a list, then make a numpy array from that, to do maths\n",
    "num_vals= np.array(list(vals))\n",
    "print(f' biggest value is {np.max(num_vals)}') \n",
    "\n",
    "#print all keys\n",
    "print(mydict.keys())\n"
   ]
  },
  {
   "cell_type": "code",
   "execution_count": null,
   "metadata": {},
   "outputs": [],
   "source": [
    "def first_ml_test_harness(train_x:np.ndarray,train_y:np.ndarray,\n",
    "                          test_x:np.ndarray,test_y:np.ndarray):\n",
    "    \"\"\" code to compare supervised machine learning algorithms on a dataset\"\"\"\n",
    "    # insert your code below here\n",
    "    \n",
    "    \n",
    "    \n",
    "    raise NotImplementedError(\"Student exercise: implement code to compare machine learning algorithms\")\n",
    "    #insert your code above here"
   ]
  },
  {
   "cell_type": "code",
   "execution_count": null,
   "metadata": {},
   "outputs": [],
   "source": [
    "#now run your code for the iris data\n",
    "first_ml_test_harness(train_x, train_y)"
   ]
  }
 ],
 "metadata": {
  "kernelspec": {
   "display_name": "Python 3 (ipykernel)",
   "language": "python",
   "name": "python3"
  },
  "language_info": {
   "codemirror_mode": {
    "name": "ipython",
    "version": 3
   },
   "file_extension": ".py",
   "mimetype": "text/x-python",
   "name": "python",
   "nbconvert_exporter": "python",
   "pygments_lexer": "ipython3",
   "version": "3.11.6"
  }
 },
 "nbformat": 4,
 "nbformat_minor": 4
}
