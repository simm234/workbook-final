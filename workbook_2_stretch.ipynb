{
 "cells": [
  {
   "cell_type": "markdown",
   "metadata": {},
   "source": [
    "<div class=\"alert alert-block alert-info\" style=\"color:black\"> <h2>Activity 5: Investigate the time and space (memory) requirements of your two methods</h2>\n",
    "    You should now have working versions of both breadth-first and (restricted) depth-first search. They already store the number of attempts tested (a measure of runtime), and the code cells that run them print that value out.<br>\n",
    "    The next step is to compare memory - which is proportional to the maximum size of the open list. \n",
    "    <br><br><b>How to get started:</b> Edit your code for both classes:\n",
    "    <ol>\n",
    "    <li> Copy-paste <code>update_working_memory()</code> into your <code>BreadthFirstSearch</code> class</li>\n",
    "    <li> In both your classes add a new parameter <code>self.max_memory</code> with a default value 0 by over-riding the <code>__init__()</code> method of the super class.</ul>\n",
    "    <li> Override <code>update_working_memory()</code> in both your classes, adding code to:\n",
    "        <ul>\n",
    "            <li>check the length of the open_list against <code>self.max_memory</code></li>\n",
    "            <li> update the value of <code>self.max_memory</code> if the open list has increased in size.</li>\n",
    "        </ul>\n",
    "    <li> Copy-paste the testing code from the cells above, then adapt it to test the time and memory needs of your algorithms.</li> \n",
    "    </ol>\n",
    "    <b>Note:</b> this is a <em>Stretch</em> activity so don't worry if you can't complete it easily.\n",
    "</div>"
   ]
  },
  {
   "cell_type": "code",
   "execution_count": 1,
   "metadata": {},
   "outputs": [],
   "source": [
    "# YOU MUST RUN THIS CELL BUT DO NOT EDIT IT OR YOU WILL BREAK THE NOTEBOOK\n",
    "import sys, os\n",
    "\n",
    "# Import from the common directory\n",
    "sys.path.append('../common')\n",
    "from problem import Problem\n",
    "from candidatesolution import CandidateSolution\n",
    "from singlemembersearch import SingleMemberSearch\n",
    "from combinationproblem import CombinationProblem"
   ]
  },
  {
   "cell_type": "code",
   "execution_count": 2,
   "metadata": {},
   "outputs": [],
   "source": [
    "class BreadthFirstSearch(SingleMemberSearch):\n",
    "    def __init__(\n",
    "        self,\n",
    "        problem: Problem,\n",
    "        constructive: bool = False,\n",
    "        max_attempts: int = 50,\n",
    "        minimise=True,\n",
    "        target_quality=1,\n",
    "    ):\n",
    "        super().__init__(problem, constructive, max_attempts, minimise, target_quality)\n",
    "        self.max_memory = 0  \n",
    "\n",
    "    def __str__(self):\n",
    "        return \"breadth-first\"\n",
    "\n",
    "    def select_and_move_from_openlist(self) -> CandidateSolution:\n",
    "        next_soln = self.open_list[0]\n",
    "        self.open_list.pop(0)\n",
    "        return next_soln\n",
    "\n",
    "    def update_working_memory(self, neighbour: CandidateSolution, reason: str):\n",
    "        if neighbour.quality == self.target_quality:\n",
    "            self.result = neighbour.variable_values\n",
    "            self.solved = True\n",
    "        elif reason != \"\":\n",
    "            self.runlog += (\n",
    "                f\"discarding invalid solution {neighbour.variable_values} because {reason}\\n\"\n",
    "            )\n",
    "            self.closed_list.append(neighbour)\n",
    "        else:\n",
    "            self.runlog += (\n",
    "                f\"adding solution to openlist: {neighbour.variable_values}\\tquality {neighbour.quality}\\n\"\n",
    "            )\n",
    "            self.open_list.append(neighbour)\n",
    "            if len(self.open_list) > self.max_memory:\n",
    "                self.max_memory = len(self.open_list)\n"
   ]
  },
  {
   "cell_type": "code",
   "execution_count": 3,
   "metadata": {},
   "outputs": [],
   "source": [
    "class RestrictedDepthFirstSearch(SingleMemberSearch):\n",
    "    def __init__(\n",
    "        self,\n",
    "        problem: Problem,\n",
    "        constructive: bool = False,\n",
    "        max_attempts: int = 50,\n",
    "        minimise=True,\n",
    "        target_quality=1,\n",
    "        max_depth: int = 10,\n",
    "    ):\n",
    "        super().__init__(problem, constructive, max_attempts, minimise, target_quality)\n",
    "        self.max_depth = max_depth\n",
    "        self.max_memory = 0  \n",
    "\n",
    "    def __str__(self):\n",
    "        return \"restricted-depth-first\"\n",
    "\n",
    "    def select_and_move_from_openlist(self) -> CandidateSolution:\n",
    "        next_soln = self.open_list[-1]\n",
    "        self.open_list.pop()\n",
    "        return next_soln\n",
    "\n",
    "    def update_working_memory(self, neighbour: CandidateSolution, reason: str):\n",
    "        if neighbour.quality == self.target_quality:\n",
    "            self.result = neighbour.variable_values\n",
    "            self.solved = True\n",
    "        elif reason != \"\":\n",
    "            self.runlog += (\n",
    "                f\"discarding invalid solution {neighbour.variable_values} because {reason}\\n\"\n",
    "            )\n",
    "            self.closed_list.append(neighbour)\n",
    "        elif len(neighbour.variable_values) < self.max_depth:\n",
    "            self.runlog += (\n",
    "                f\"adding solution to openlist: {neighbour.variable_values}\\tquality {neighbour.quality}\\n\"\n",
    "            )\n",
    "            self.open_list.append(neighbour)\n",
    "            if len(self.open_list) > self.max_memory:\n",
    "                self.max_memory = len(self.open_list)\n"
   ]
  },
  {
   "cell_type": "code",
   "execution_count": 4,
   "metadata": {},
   "outputs": [
    {
     "name": "stdout",
     "output_type": "stream",
     "text": [
      "BFS = Trials: 9180, Max Memory: 6821\n",
      "DFS (max_depth=5) = Found: True, Trials: 3831, Max Memory: 3607\n"
     ]
    }
   ],
   "source": [
    "def test_search_memory():\n",
    "    goal = [9, 9, 9, 9]\n",
    "\n",
    "    problem = CombinationProblem(tumblers=4, num_options=10)\n",
    "    problem.set_goal(goal)\n",
    "\n",
    "    bfs = BreadthFirstSearch(problem, max_attempts=10000)\n",
    "    bfs.run_search()\n",
    "    print(f\"BFS = Trials: {bfs.trials}, Max Memory: {bfs.max_memory}\")\n",
    "\n",
    "    dfs = RestrictedDepthFirstSearch(problem, max_attempts=10000, max_depth=5)\n",
    "    found = dfs.run_search()\n",
    "    print(f\"DFS (max_depth=5) = Found: {found}, Trials: {dfs.trials}, Max Memory: {dfs.max_memory}\")\n",
    "\n",
    "test_search_memory()\n"
   ]
  },
  {
   "cell_type": "code",
   "execution_count": 5,
   "metadata": {},
   "outputs": [
    {
     "data": {
      "application/vnd.jupyter.widget-view+json": {
       "model_id": "8d689c84e1e0431bb8d8339ea595c472",
       "version_major": 2,
       "version_minor": 0
      },
      "text/plain": [
       "VBox(children=(Output(), RadioButtons(layout=Layout(height='auto', width='auto'), options=(('yes', 0), ('no', …"
      ]
     },
     "metadata": {},
     "output_type": "display_data"
    },
    {
     "data": {
      "application/vnd.jupyter.widget-view+json": {
       "model_id": "0630d774ce6f472398610f0f282e2b0c",
       "version_major": 2,
       "version_minor": 0
      },
      "text/plain": [
       "VBox(children=(Output(), RadioButtons(layout=Layout(height='auto', width='auto'), options=(('yes', 0), ('no', …"
      ]
     },
     "metadata": {},
     "output_type": "display_data"
    }
   ],
   "source": [
    "import workbook2_utils as wb2\n",
    "display(wb2.q12)\n",
    "display(wb2.q13)"
   ]
  }
 ],
 "metadata": {
  "kernelspec": {
   "display_name": "Python 3",
   "language": "python",
   "name": "python3"
  },
  "language_info": {
   "codemirror_mode": {
    "name": "ipython",
    "version": 3
   },
   "file_extension": ".py",
   "mimetype": "text/x-python",
   "name": "python",
   "nbconvert_exporter": "python",
   "pygments_lexer": "ipython3",
   "version": "3.12.3"
  }
 },
 "nbformat": 4,
 "nbformat_minor": 2
}
